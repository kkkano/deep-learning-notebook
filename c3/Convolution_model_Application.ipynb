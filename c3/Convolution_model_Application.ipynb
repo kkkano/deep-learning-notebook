{
 "cells": [
  {
   "cell_type": "markdown",
   "metadata": {},
   "source": [
    "# Convolutional Neural Networks: Application\n",
    "\n",
    "Welcome to Course 4's second assignment! In this notebook, you will:\n",
    "\n",
    "- Create a mood classifer using the TF Keras Sequential API\n",
    "- Build a ConvNet to identify sign language digits using the TF Keras Functional API\n",
    "\n",
    "**After this assignment you will be able to:**\n",
    "\n",
    "- Build and train a ConvNet in TensorFlow for a __binary__ classification problem\n",
    "- Build and train a ConvNet in TensorFlow for a __multiclass__ classification problem\n",
    "- Explain different use cases for the Sequential and Functional APIs\n",
    "\n",
    "To complete this assignment, you should already be familiar with TensorFlow. If you are not, please refer back to the **TensorFlow Tutorial** of the third week of Course 2 (\"**Improving deep neural networks**\").\n",
    "\n",
    "## Important Note on Submission to the AutoGrader\n",
    "\n",
    "Before submitting your assignment to the AutoGrader, please make sure you are not doing the following:\n",
    "\n",
    "1. You have not added any _extra_ `print` statement(s) in the assignment.\n",
    "2. You have not added any _extra_ code cell(s) in the assignment.\n",
    "3. You have not changed any of the function parameters.\n",
    "4. You are not using any global variables inside your graded exercises. Unless specifically instructed to do so, please refrain from it and use the local variables instead.\n",
    "5. You are not changing the assignment code where it is not required, like creating _extra_ variables.\n",
    "\n",
    "If you do any of the following, you will get something like, `Grader Error: Grader feedback not found` (or similarly unexpected) error upon submitting your assignment. Before asking for help/debugging the errors in your assignment, check for these first. If this is the case, and you don't remember the changes you have made, you can get a fresh copy of the assignment by following these [instructions](https://www.coursera.org/learn/convolutional-neural-networks/supplement/DS4yP/h-ow-to-refresh-your-workspace)."
   ]
  },
  {
   "cell_type": "markdown",
   "metadata": {},
   "source": [
    "## Table of Contents\n",
    "\n",
    "- [1 - Packages](#1)\n",
    "    - [1.1 - Load the Data and Split the Data into Train/Test Sets](#1-1)\n",
    "- [2 - Layers in TF Keras](#2)\n",
    "- [3 - The Sequential API](#3)\n",
    "    - [3.1 - Create the Sequential Model](#3-1)\n",
    "        - [Exercise 1 - happyModel](#ex-1)\n",
    "    - [3.2 - Train and Evaluate the Model](#3-2)\n",
    "- [4 - The Functional API](#4)\n",
    "    - [4.1 - Load the SIGNS Dataset](#4-1)\n",
    "    - [4.2 - Split the Data into Train/Test Sets](#4-2)\n",
    "    - [4.3 - Forward Propagation](#4-3)\n",
    "        - [Exercise 2 - convolutional_model](#ex-2)\n",
    "    - [4.4 - Train the Model](#4-4)\n",
    "- [5 - History Object](#5)\n",
    "- [6 - Bibliography](#6)"
   ]
  },
  {
   "cell_type": "markdown",
   "metadata": {},
   "source": [
    "<a name='1'></a>\n",
    "## 1 - Packages\n",
    "\n",
    "As usual, begin by loading in the packages."
   ]
  },
  {
   "cell_type": "code",
   "execution_count": null,
   "metadata": {
    "deletable": false,
    "editable": false
   },
   "outputs": [],
   "source": [
    "### v1.1"
   ]
  },
  {
   "cell_type": "code",
   "execution_count": 1,
   "metadata": {},
   "outputs": [],
   "source": [
    "import math\n",
    "import numpy as np\n",
    "import h5py\n",
    "import matplotlib.pyplot as plt\n",
    "from matplotlib.pyplot import imread\n",
    "import scipy\n",
    "from PIL import Image\n",
    "import pandas as pd\n",
    "import tensorflow as tf\n",
    "import tensorflow.keras.layers as tfl\n",
    "from tensorflow.python.framework import ops\n",
    "from cnn_utils import *\n",
    "from test_utils import summary, comparator\n",
    "\n",
    "%matplotlib inline\n",
    "np.random.seed(1)"
   ]
  },
  {
   "cell_type": "markdown",
   "metadata": {},
   "source": [
    "<a name='1-1'></a>\n",
    "### 1.1 - Load the Data and Split the Data into Train/Test Sets\n",
    "\n",
    "You'll be using the Happy House dataset for this part of the assignment, which contains images of peoples' faces. Your task will be to build a ConvNet that determines whether the people in the images are smiling or not -- because they only get to enter the house if they're smiling!  "
   ]
  },
  {
   "cell_type": "code",
   "execution_count": 2,
   "metadata": {},
   "outputs": [
    {
     "name": "stdout",
     "output_type": "stream",
     "text": [
      "number of training examples = 600\n",
      "number of test examples = 150\n",
      "X_train shape: (600, 64, 64, 3)\n",
      "Y_train shape: (600, 1)\n",
      "X_test shape: (150, 64, 64, 3)\n",
      "Y_test shape: (150, 1)\n"
     ]
    }
   ],
   "source": [
    "X_train_orig, Y_train_orig, X_test_orig, Y_test_orig, classes = load_happy_dataset()\n",
    "\n",
    "# Normalize image vectors\n",
    "X_train = X_train_orig/255.\n",
    "X_test = X_test_orig/255.\n",
    "\n",
    "# Reshape\n",
    "Y_train = Y_train_orig.T\n",
    "Y_test = Y_test_orig.T\n",
    "\n",
    "print (\"number of training examples = \" + str(X_train.shape[0]))\n",
    "print (\"number of test examples = \" + str(X_test.shape[0]))\n",
    "print (\"X_train shape: \" + str(X_train.shape))\n",
    "print (\"Y_train shape: \" + str(Y_train.shape))\n",
    "print (\"X_test shape: \" + str(X_test.shape))\n",
    "print (\"Y_test shape: \" + str(Y_test.shape))"
   ]
  },
  {
   "cell_type": "markdown",
   "metadata": {},
   "source": [
    "You can display the images contained in the dataset. Images are **64x64** pixels in RGB format (3 channels)."
   ]
  },
  {
   "cell_type": "code",
   "execution_count": 3,
   "metadata": {},
   "outputs": [
    {
     "data": {
      "image/png": "[encoded data removed]",
      "text/plain": [
       "<Figure size 432x288 with 1 Axes>"
      ]
     },
     "metadata": {
      "needs_background": "light"
     },
     "output_type": "display_data"
    }
   ],
   "source": [
    "index = 124\n",
    "plt.imshow(X_train_orig[index]) #display sample training image\n",
    "plt.show()"
   ]
  },
  {
   "cell_type": "markdown",
   "metadata": {},
   "source": [
    "<a name='2'></a>\n",
    "## 2 - Layers in TF Keras \n",
    "\n",
    "In the previous assignment, you created layers manually in numpy. In TF Keras, you don't have to write code directly to create layers. Rather, TF Keras has pre-defined layers you can use. \n",
    "\n",
    "When you create a layer in TF Keras, you are creating a function that takes some input and transforms it into an output you can reuse later. Nice and easy! "
   ]
  },
  {
   "cell_type": "markdown",
   "metadata": {},
   "source": [
    "<a name='3'></a>\n",
    "## 3 - The Sequential API\n",
    "\n",
    "In the previous assignment, you built helper functions using `numpy` to understand the mechanics behind convolutional neural networks. Most practical applications of deep learning today are built using programming frameworks, which have many built-in functions you can simply call. Keras is a high-level abstraction built on top of TensorFlow, which allows for even more simplified and optimized model creation and training. \n",
    "\n",
    "For the first part of this assignment, you'll create a model using TF Keras' Sequential API, which allows you to build layer by layer, and is ideal for building models where each layer has **exactly one** input tensor and **one** output tensor. \n",
    "\n",
    "As you'll see, using the Sequential API is simple and straightforward, but is only appropriate for simpler, more straightforward tasks. Later in this notebook you'll spend some time building with a more flexible, powerful alternative: the Functional API. \n",
    " "
   ]
  },
  {
   "cell_type": "markdown",
   "metadata": {},
   "source": [
    "<a name='3-1'></a>\n",
    "### 3.1 - Create the Sequential Model\n",
    "\n",
    "As mentioned earlier, the TensorFlow Keras Sequential API can be used to build simple models with layer operations that proceed in a sequential order. \n",
    "\n",
    "You can also add layers incrementally to a Sequential model with the `.add()` method, or remove them using the `.pop()` method, much like you would in a regular Python list.\n",
    "\n",
    "Actually, you can think of a Sequential model as behaving like a list of layers. Like Python lists, Sequential layers are ordered, and the order in which they are specified matters.  If your model is non-linear or contains layers with multiple inputs or outputs, a Sequential model wouldn't be the right choice!\n",
    "\n",
    "For any layer construction in Keras, you'll need to specify the input shape in advance. This is because in Keras, the shape of the weights is based on the shape of the inputs. The weights are only created when the model first sees some input data. Sequential models can be created by passing a list of layers to the Sequential constructor, like you will do in the next assignment.\n",
    "\n",
    "<a name='ex-1'></a>\n",
    "### Exercise 1 - happyModel\n",
    "\n",
    "Implement the `happyModel` function below to build the following model: `ZEROPAD2D -> CONV2D -> BATCHNORM -> RELU -> MAXPOOL -> FLATTEN -> DENSE`. Take help from [tf.keras.layers](https://www.tensorflow.org/api_docs/python/tf/keras/layers) \n",
    "\n",
    "Also, plug in the following parameters for all the steps:\n",
    "\n",
    " - [ZeroPadding2D](https://www.tensorflow.org/api_docs/python/tf/keras/layers/ZeroPadding2D): padding 3, input shape 64 x 64 x 3\n",
    " - [Conv2D](https://www.tensorflow.org/api_docs/python/tf/keras/layers/Conv2D): Use 32 7x7 filters, stride 1\n",
    " - [BatchNormalization](https://www.tensorflow.org/api_docs/python/tf/keras/layers/BatchNormalization): for axis 3\n",
    " - [ReLU](https://www.tensorflow.org/api_docs/python/tf/keras/layers/ReLU)\n",
    " - [MaxPool2D](https://www.tensorflow.org/api_docs/python/tf/keras/layers/MaxPool2D): Using default parameters\n",
    " - [Flatten](https://www.tensorflow.org/api_docs/python/tf/keras/layers/Flatten) the previous output.\n",
    " - Fully-connected ([Dense](https://www.tensorflow.org/api_docs/python/tf/keras/layers/Dense)) layer: Apply a fully connected layer with 1 neuron and a sigmoid activation. \n",
    " \n",
    " \n",
    " **Hint:**\n",
    " \n",
    " Use **tfl** as shorthand for **tensorflow.keras.layers**"
   ]
  },
  {
   "cell_type": "code",
   "execution_count": 4,
   "metadata": {
    "deletable": false,
    "nbgrader": {
     "cell_type": "code",
     "checksum": "95d28b191f257bdd5b70c7b8952559d5",
     "grade": false,
     "grade_id": "cell-0e56d3fc28b69aec",
     "locked": false,
     "schema_version": 3,
     "solution": true,
     "task": false
    }
   },
   "outputs": [],
   "source": [
    "# GRADED FUNCTION: happyModel\n",
    "\n",
    "def happyModel():\n",
    "    \"\"\"\n",
    "    Implements the forward propagation for the binary classification model:\n",
    "    ZEROPAD2D -> CONV2D -> BATCHNORM -> RELU -> MAXPOOL -> FLATTEN -> DENSE\n",
    "    \n",
    "    Note that for simplicity and grading purposes, you'll hard-code all the values\n",
    "    such as the stride and kernel (filter) sizes. \n",
    "    Normally, functions should take these values as function parameters.\n",
    "    \n",
    "    Arguments:\n",
    "    None\n",
    "\n",
    "    Returns:\n",
    "    model -- TF Keras model (object containing the information for the entire training process) \n",
    "    \"\"\"\n",
    "    model = tf.keras.Sequential([\n",
    "            ## ZeroPadding2D with padding 3, input shape of 64 x 64 x 3\n",
    "            tfl.ZeroPadding2D(padding=(3, 3), input_shape=(64, 64, 3)),\n",
    "            \n",
    "            ## Conv2D with 32 7x7 filters and stride of 1\n",
    "            tfl.Conv2D(32, (7, 7), strides=(1, 1), name='conv0'),\n",
    "            \n",
    "            ## BatchNormalization for axis 3\n",
    "            tfl.BatchNormalization(axis=3, name='bn0'),\n",
    "            \n",
    "            ## ReLU\n",
    "            tfl.ReLU(),\n",
    "            \n",
    "            ## Max Pooling 2D with default parameters\n",
    "            tfl.MaxPool2D(pool_size=(2, 2), strides=(2, 2)), # MaxPool2D的默认参数通常是pool_size=(2,2), strides=None (默认为pool_size)\n",
    "                                                            \n",
    "            \n",
    "            ## Flatten layer\n",
    "            tfl.Flatten(),\n",
    "            \n",
    "            ## Dense layer with 1 unit for output & 'sigmoid' activation\n",
    "            tfl.Dense(1, activation='sigmoid', name='fc0')\n",
    "        ])\n",
    "    \n",
    "    return model"
   ]
  },
  {
   "cell_type": "code",
   "execution_count": 6,
   "metadata": {
    "deletable": false,
    "editable": false,
    "nbgrader": {
     "cell_type": "code",
     "checksum": "8d3575c950e2e78149be2d05d671c80d",
     "grade": true,
     "grade_id": "cell-e3e1046e5c33d775",
     "locked": true,
     "points": 10,
     "schema_version": 3,
     "solution": false,
     "task": false
    }
   },
   "outputs": [
    {
     "name": "stdout",
     "output_type": "stream",
     "text": [
      "['ZeroPadding2D', (None, 70, 70, 3), 0, ((3, 3), (3, 3))]\n",
      "['Conv2D', (None, 64, 64, 32), 4736, 'valid', 'linear', 'GlorotUniform']\n",
      "['BatchNormalization', (None, 64, 64, 32), 128]\n",
      "['ReLU', (None, 64, 64, 32), 0]\n",
      "['MaxPooling2D', (None, 32, 32, 32), 0, (2, 2), (2, 2), 'valid']\n",
      "['Flatten', (None, 32768), 0]\n",
      "['Dense', (None, 1), 32769, 'sigmoid']\n",
      "\u001b[32mAll tests passed!\u001b[0m\n"
     ]
    }
   ],
   "source": [
    "happy_model = happyModel()\n",
    "# Print a summary for each layer\n",
    "for layer in summary(happy_model):\n",
    "    print(layer)\n",
    "    \n",
    "output = [['ZeroPadding2D', (None, 70, 70, 3), 0, ((3, 3), (3, 3))],\n",
    "            ['Conv2D', (None, 64, 64, 32), 4736, 'valid', 'linear', 'GlorotUniform'],\n",
    "            ['BatchNormalization', (None, 64, 64, 32), 128],\n",
    "            ['ReLU', (None, 64, 64, 32), 0],\n",
    "            ['MaxPooling2D', (None, 32, 32, 32), 0, (2, 2), (2, 2), 'valid'],\n",
    "            ['Flatten', (None, 32768), 0],\n",
    "            ['Dense', (None, 1), 32769, 'sigmoid']]\n",
    "    \n",
    "comparator(summary(happy_model), output)"
   ]
  },
  {
   "cell_type": "markdown",
   "metadata": {},
   "source": [
    "#### Expected Output:\n",
    "\n",
    "```\n",
    "['ZeroPadding2D', (None, 70, 70, 3), 0, ((3, 3), (3, 3))]\n",
    "['Conv2D', (None, 64, 64, 32), 4736, 'valid', 'linear', 'GlorotUniform']\n",
    "['BatchNormalization', (None, 64, 64, 32), 128]\n",
    "['ReLU', (None, 64, 64, 32), 0]\n",
    "['MaxPooling2D', (None, 32, 32, 32), 0, (2, 2), (2, 2), 'valid']\n",
    "['Flatten', (None, 32768), 0]\n",
    "['Dense', (None, 1), 32769, 'sigmoid']\n",
    "All tests passed!\n",
    "```"
   ]
  },
  {
   "cell_type": "markdown",
   "metadata": {},
   "source": [
    "Now that your model is created, you can compile it for training with an optimizer and loss of your choice. When the string `accuracy` is specified as a metric, the type of accuracy used will be automatically converted based on the loss function used. This is one of the many optimizations built into TensorFlow that make your life easier! If you'd like to read more on how the compiler operates, check the docs [here](https://www.tensorflow.org/api_docs/python/tf/keras/Model#compile)."
   ]
  },
  {
   "cell_type": "code",
   "execution_count": 7,
   "metadata": {},
   "outputs": [],
   "source": [
    "happy_model.compile(optimizer='adam',\n",
    "                   loss='binary_crossentropy',\n",
    "                   metrics=['accuracy'])"
   ]
  },
  {
   "cell_type": "markdown",
   "metadata": {},
   "source": [
    "It's time to check your model's parameters with the `.summary()` method. This will display the types of layers you have, the shape of the outputs, and how many parameters are in each layer. "
   ]
  },
  {
   "cell_type": "code",
   "execution_count": 8,
   "metadata": {},
   "outputs": [
    {
     "name": "stdout",
     "output_type": "stream",
     "text": [
      "Model: \"sequential_1\"\n",
      "_________________________________________________________________\n",
      "Layer (type)                 Output Shape              Param #   \n",
      "=================================================================\n",
      "zero_padding2d_1 (ZeroPaddin (None, 70, 70, 3)         0         \n",
      "_________________________________________________________________\n",
      "conv0 (Conv2D)               (None, 64, 64, 32)        4736      \n",
      "_________________________________________________________________\n",
      "bn0 (BatchNormalization)     (None, 64, 64, 32)        128       \n",
      "_________________________________________________________________\n",
      "re_lu_1 (ReLU)               (None, 64, 64, 32)        0         \n",
      "_________________________________________________________________\n",
      "max_pooling2d_1 (MaxPooling2 (None, 32, 32, 32)        0         \n",
      "_________________________________________________________________\n",
      "flatten_1 (Flatten)          (None, 32768)             0         \n",
      "_________________________________________________________________\n",
      "fc0 (Dense)                  (None, 1)                 32769     \n",
      "=================================================================\n",
      "Total params: 37,633\n",
      "Trainable params: 37,569\n",
      "Non-trainable params: 64\n",
      "_________________________________________________________________\n"
     ]
    }
   ],
   "source": [
    "happy_model.summary()"
   ]
  },
  {
   "cell_type": "markdown",
   "metadata": {},
   "source": [
    "<a name='3-2'></a>\n",
    "### 3.2 - Train and Evaluate the Model\n",
    "\n",
    "After creating the model, compiling it with your choice of optimizer and loss function, and doing a sanity check on its contents, you are now ready to build! \n",
    "\n",
    "Simply call `.fit()` to train. That's it! No need for mini-batching, saving, or complex backpropagation computations. That's all been done for you, as you're using a TensorFlow dataset with the batches specified already. You do have the option to specify epoch number or minibatch size if you like (for example, in the case of an un-batched dataset)."
   ]
  },
  {
   "cell_type": "code",
   "execution_count": 9,
   "metadata": {},
   "outputs": [
    {
     "name": "stdout",
     "output_type": "stream",
     "text": [
      "Epoch 1/10\n",
      "38/38 [==============================] - 4s 103ms/step - loss: 1.2273 - accuracy: 0.7133\n",
      "Epoch 2/10\n",
      "38/38 [==============================] - 4s 95ms/step - loss: 0.2093 - accuracy: 0.9100\n",
      "Epoch 3/10\n",
      "38/38 [==============================] - 4s 97ms/step - loss: 0.1477 - accuracy: 0.9450\n",
      "Epoch 4/10\n",
      "38/38 [==============================] - 4s 95ms/step - loss: 0.0921 - accuracy: 0.9750\n",
      "Epoch 5/10\n",
      "38/38 [==============================] - 4s 97ms/step - loss: 0.1292 - accuracy: 0.9450\n",
      "Epoch 6/10\n",
      "38/38 [==============================] - 4s 95ms/step - loss: 0.1189 - accuracy: 0.9600\n",
      "Epoch 7/10\n",
      "38/38 [==============================] - 4s 95ms/step - loss: 0.0639 - accuracy: 0.9750\n",
      "Epoch 8/10\n",
      "38/38 [==============================] - 4s 95ms/step - loss: 0.1885 - accuracy: 0.9300\n",
      "Epoch 9/10\n",
      "38/38 [==============================] - 4s 95ms/step - loss: 0.1211 - accuracy: 0.9567\n",
      "Epoch 10/10\n",
      "38/38 [==============================] - 4s 97ms/step - loss: 0.1169 - accuracy: 0.9600\n"
     ]
    },
    {
     "data": {
      "text/plain": [
       "<tensorflow.python.keras.callbacks.History at 0x726ced0fed90>"
      ]
     },
     "execution_count": 9,
     "metadata": {},
     "output_type": "execute_result"
    }
   ],
   "source": [
    "happy_model.fit(X_train, Y_train, epochs=10, batch_size=16)"
   ]
  },
  {
   "cell_type": "markdown",
   "metadata": {},
   "source": [
    "After that completes, just use `.evaluate()` to evaluate against your test set. This function will print the value of the loss function and the performance metrics specified during the compilation of the model. In this case, the `binary_crossentropy` and the `accuracy` respectively."
   ]
  },
  {
   "cell_type": "code",
   "execution_count": 11,
   "metadata": {},
   "outputs": [
    {
     "name": "stdout",
     "output_type": "stream",
     "text": [
      "5/5 [==============================] - 0s 23ms/step - loss: 0.2173 - accuracy: 0.9000\n"
     ]
    },
    {
     "data": {
      "text/plain": [
       "[0.2173141986131668, 0.8999999761581421]"
      ]
     },
     "execution_count": 11,
     "metadata": {},
     "output_type": "execute_result"
    }
   ],
   "source": [
    "happy_model.evaluate(X_test, Y_test)"
   ]
  },
  {
   "cell_type": "markdown",
   "metadata": {},
   "source": [
    "Easy, right? But what if you need to build a model with shared layers, branches, or multiple inputs and outputs? This is where Sequential, with its beautifully simple yet limited functionality, won't be able to help you. \n",
    "\n",
    "Next up: Enter the Functional API, your slightly more complex, highly flexible friend.  "
   ]
  },
  {
   "cell_type": "markdown",
   "metadata": {},
   "source": [
    "<a name='4'></a>\n",
    "## 4 - The Functional API"
   ]
  },
  {
   "cell_type": "markdown",
   "metadata": {},
   "source": [
    "Welcome to the second half of the assignment, where you'll use Keras' flexible [Functional API](https://www.tensorflow.org/guide/keras/functional) to build a ConvNet that can differentiate between 6 sign language digits. \n",
    "\n",
    "The Functional API can handle models with non-linear topology, shared layers, as well as layers with multiple inputs or outputs. Imagine that, where the Sequential API requires the model to move in a linear fashion through its layers, the Functional API allows much more flexibility. Where Sequential is a straight line, a Functional model is a graph, where the nodes of the layers can connect in many more ways than one. \n",
    "\n",
    "In the visual example below, the one possible direction of the movement Sequential model is shown in contrast to a skip connection, which is just one of the many ways a Functional model can be constructed. A skip connection, as you might have guessed, skips some layer in the network and feeds the output to a later layer in the network. Don't worry, you'll be spending more time with skip connections very soon! "
   ]
  },
  {
   "cell_type": "markdown",
   "metadata": {},
   "source": [
    "<img src=\"images/seq_vs_func.png\" style=\"width:350px;height:200px;\">"
   ]
  },
  {
   "cell_type": "markdown",
   "metadata": {},
   "source": [
    "<a name='4-1'></a>\n",
    "### 4.1 - Load the SIGNS Dataset\n",
    "\n",
    "As a reminder, the SIGNS dataset is a collection of 6 signs representing numbers from 0 to 5."
   ]
  },
  {
   "cell_type": "code",
   "execution_count": 12,
   "metadata": {},
   "outputs": [],
   "source": [
    "# Loading the data (signs)\n",
    "X_train_orig, Y_train_orig, X_test_orig, Y_test_orig, classes = load_signs_dataset()"
   ]
  },
  {
   "cell_type": "markdown",
   "metadata": {},
   "source": [
    "<img src=\"images/SIGNS.png\" style=\"width:800px;height:300px;\">\n",
    "\n",
    "The next cell will show you an example of a labelled image in the dataset. Feel free to change the value of `index` below and re-run to see different examples. "
   ]
  },
  {
   "cell_type": "code",
   "execution_count": 15,
   "metadata": {},
   "outputs": [
    {
     "name": "stdout",
     "output_type": "stream",
     "text": [
      "y = 0\n"
     ]
    },
    {
     "data": {
      "image/png": "[encoded data removed]",
      "text/plain": [
       "<Figure size 432x288 with 1 Axes>"
      ]
     },
     "metadata": {
      "needs_background": "light"
     },
     "output_type": "display_data"
    }
   ],
   "source": [
    "# Example of an image from the dataset\n",
    "index = 91\n",
    "plt.imshow(X_train_orig[index])\n",
    "print (\"y = \" + str(np.squeeze(Y_train_orig[:, index])))"
   ]
  },
  {
   "cell_type": "markdown",
   "metadata": {},
   "source": [
    "<a name='4-2'></a>\n",
    "### 4.2 - Split the Data into Train/Test Sets\n",
    "\n",
    "In Course 2, you built a fully-connected network for this dataset. But since this is an image dataset, it is more natural to apply a ConvNet to it.\n",
    "\n",
    "To get started, let's examine the shapes of your data. "
   ]
  },
  {
   "cell_type": "code",
   "execution_count": 16,
   "metadata": {},
   "outputs": [
    {
     "name": "stdout",
     "output_type": "stream",
     "text": [
      "number of training examples = 1080\n",
      "number of test examples = 120\n",
      "X_train shape: (1080, 64, 64, 3)\n",
      "Y_train shape: (1080, 6)\n",
      "X_test shape: (120, 64, 64, 3)\n",
      "Y_test shape: (120, 6)\n"
     ]
    }
   ],
   "source": [
    "X_train = X_train_orig/255.\n",
    "X_test = X_test_orig/255.\n",
    "Y_train = convert_to_one_hot(Y_train_orig, 6).T\n",
    "Y_test = convert_to_one_hot(Y_test_orig, 6).T\n",
    "print (\"number of training examples = \" + str(X_train.shape[0]))\n",
    "print (\"number of test examples = \" + str(X_test.shape[0]))\n",
    "print (\"X_train shape: \" + str(X_train.shape))\n",
    "print (\"Y_train shape: \" + str(Y_train.shape))\n",
    "print (\"X_test shape: \" + str(X_test.shape))\n",
    "print (\"Y_test shape: \" + str(Y_test.shape))"
   ]
  },
  {
   "cell_type": "markdown",
   "metadata": {},
   "source": [
    "<a name='4-3'></a>\n",
    "### 4.3 - Forward Propagation\n",
    "\n",
    "In TensorFlow, there are built-in functions that implement the convolution steps for you. By now, you should be familiar with how TensorFlow builds computational graphs. In the [Functional API](https://www.tensorflow.org/guide/keras/functional), you create a graph of layers. This is what allows such great flexibility.\n",
    "\n",
    "However, the following model could also be defined using the Sequential API since the information flow is on a single line. But don't deviate. What we want you to learn is to use the functional API.\n",
    "\n",
    "Begin building your graph of layers by creating an input node that functions as a callable object:\n",
    "\n",
    "- **input_img = tf.keras.Input(shape=input_shape):** \n",
    "\n",
    "Then, create a new node in the graph of layers by calling a layer on the `input_img` object: \n",
    "\n",
    "- **tf.keras.layers.Conv2D(filters= ... , kernel_size= ... , padding='same')(input_img):** Read the full documentation on [Conv2D](https://www.tensorflow.org/api_docs/python/tf/keras/layers/Conv2D).\n",
    "\n",
    "- **tf.keras.layers.MaxPool2D(pool_size=(f, f), strides=(s, s), padding='same'):** `MaxPool2D()` downsamples your input using a window of size (f, f) and strides of size (s, s) to carry out max pooling over each window.  For max pooling, you usually operate on a single example at a time and a single channel at a time. Read the full documentation on [MaxPool2D](https://www.tensorflow.org/api_docs/python/tf/keras/layers/MaxPool2D).\n",
    "\n",
    "- **tf.keras.layers.ReLU():** computes the elementwise ReLU of Z (which can be any shape). You can read the full documentation on [ReLU](https://www.tensorflow.org/api_docs/python/tf/keras/layers/ReLU).\n",
    "\n",
    "- **tf.keras.layers.Flatten()**: given a tensor \"P\", this function takes each training (or test) example in the batch and flattens it into a 1D vector.  \n",
    "\n",
    "    * If a tensor P has the shape (batch_size,h,w,c), it returns a flattened tensor with shape (batch_size, k), where $k=h \\times w \\times c$.  \"k\" equals the product of all the dimension sizes other than the first dimension.\n",
    "    \n",
    "    * For example, given a tensor with dimensions [100, 2, 3, 4], it flattens the tensor to be of shape [100, 24], where 24 = 2 * 3 * 4.  You can read the full documentation on [Flatten](https://www.tensorflow.org/api_docs/python/tf/keras/layers/Flatten).\n",
    "\n",
    "- **tf.keras.layers.Dense(units= ... , activation='softmax')(F):** given the flattened input F, it returns the output computed using a fully connected layer. You can read the full documentation on [Dense](https://www.tensorflow.org/api_docs/python/tf/keras/layers/Dense).\n",
    "\n",
    "In the last function above (`tf.keras.layers.Dense()`), the fully connected layer automatically initializes weights in the graph and keeps on training them as you train the model. Hence, you did not need to initialize those weights when initializing the parameters.\n",
    "\n",
    "Lastly, before creating the model, you'll need to define the output using the last of the function's compositions (in this example, a Dense layer): \n",
    "\n",
    "- **outputs = tf.keras.layers.Dense(units=6, activation='softmax')(F)**\n",
    "\n",
    "\n",
    "#### Window, kernel, filter, pool\n",
    "\n",
    "The words \"kernel\" and \"filter\" are used to refer to the same thing. The word \"filter\" accounts for the amount of \"kernels\" that will be used in a single convolution layer. \"Pool\" is the name of the operation that takes the max or average value of the kernels. \n",
    "\n",
    "This is why the parameter `pool_size` refers to `kernel_size`, and you use `(f,f)` to refer to the filter size. \n",
    "\n",
    "Pool size and kernel size refer to the same thing in different objects - They refer to the shape of the window where the operation takes place. "
   ]
  },
  {
   "cell_type": "markdown",
   "metadata": {},
   "source": [
    "<a name='ex-2'></a>\n",
    "### Exercise 2 - convolutional_model\n",
    "\n",
    "Implement the `convolutional_model` function below to build the following model: `CONV2D -> RELU -> MAXPOOL -> CONV2D -> RELU -> MAXPOOL -> FLATTEN -> DENSE`. Use the functions above! \n",
    "\n",
    "Also, plug in the following parameters for all the steps:\n",
    "\n",
    " - [Conv2D](https://www.tensorflow.org/api_docs/python/tf/keras/layers/Conv2D): Use 8 4 by 4 filters, stride 1, padding is \"SAME\"\n",
    " - [ReLU](https://www.tensorflow.org/api_docs/python/tf/keras/layers/ReLU)\n",
    " - [MaxPool2D](https://www.tensorflow.org/api_docs/python/tf/keras/layers/MaxPool2D): Use an 8 by 8 filter size and an 8 by 8 stride, padding is \"SAME\"\n",
    " - **Conv2D**: Use 16 2 by 2 filters, stride 1, padding is \"SAME\"\n",
    " - **ReLU**\n",
    " - **MaxPool2D**: Use a 4 by 4 filter size and a 4 by 4 stride, padding is \"SAME\"\n",
    " - [Flatten](https://www.tensorflow.org/api_docs/python/tf/keras/layers/Flatten) the previous output.\n",
    " - Fully-connected ([Dense](https://www.tensorflow.org/api_docs/python/tf/keras/layers/Dense)) layer: Apply a fully connected layer with 6 neurons and a softmax activation. "
   ]
  },
  {
   "cell_type": "code",
   "execution_count": 19,
   "metadata": {
    "deletable": false,
    "nbgrader": {
     "cell_type": "code",
     "checksum": "f58643806aa8380c96225fc8b4c5e7aa",
     "grade": false,
     "grade_id": "cell-dac51744a9e03f51",
     "locked": false,
     "schema_version": 3,
     "solution": true,
     "task": false
    }
   },
   "outputs": [],
   "source": [
    "# GRADED FUNCTION: convolutional_model\n",
    "\n",
    "def convolutional_model(input_shape):\n",
    "    \"\"\"\n",
    "    Implements the forward propagation for the model:\n",
    "    CONV2D -> RELU -> MAXPOOL -> CONV2D -> RELU -> MAXPOOL -> FLATTEN -> DENSE\n",
    "    \n",
    "    Note that for simplicity and grading purposes, you'll hard-code some values\n",
    "    such as the stride and kernel (filter) sizes. \n",
    "    Normally, functions should take these values as function parameters.\n",
    "    \n",
    "    Arguments:\n",
    "    input_img -- input dataset, of shape (input_shape)\n",
    "\n",
    "    Returns:\n",
    "    model -- TF Keras model (object containing the information for the entire training process) \n",
    "    \"\"\"\n",
    "\n",
    "    input_img = tf.keras.Input(shape=input_shape)\n",
    "    ## CONV2D: 8 filters 4x4, stride of 1, padding 'SAME'\n",
    "    # Z1 = None\n",
    "    ## RELU\n",
    "    # A1 = None\n",
    "    ## MAXPOOL: window 8x8, stride 8, padding 'SAME'\n",
    "    # P1 = None\n",
    "    ## CONV2D: 16 filters 2x2, stride 1, padding 'SAME'\n",
    "    # Z2 = None\n",
    "    ## RELU\n",
    "    # A2 = None\n",
    "    ## MAXPOOL: window 4x4, stride 4, padding 'SAME'\n",
    "    # P2 = None\n",
    "    ## FLATTEN\n",
    "    # F = None\n",
    "    ## Dense layer\n",
    "    ## 6 neurons in output layer. Hint: one of the arguments should be \"activation='softmax'\" \n",
    "    # outputs = None\n",
    "    # YOUR CODE STARTS HERE\n",
    "    \n",
    "    ## CONV2D: 8 filters 4x4, stride of 1, padding 'SAME'\n",
    "    Z1 = tf.keras.layers.Conv2D(filters=8, kernel_size=(4, 4), strides=(1, 1), padding='same')(input_img)\n",
    "    ## RELU\n",
    "    A1 = tf.keras.layers.ReLU()(Z1)\n",
    "    ## MAXPOOL: window 8x8, stride 8, padding 'SAME'\n",
    "    P1 = tf.keras.layers.MaxPool2D(pool_size=(8, 8), strides=(8, 8), padding='same')(A1)\n",
    "    \n",
    "    ## CONV2D: 16 filters 2x2, stride 1, padding 'SAME'\n",
    "    Z2 = tf.keras.layers.Conv2D(filters=16, kernel_size=(2, 2), strides=(1, 1), padding='same')(P1)\n",
    "    ## RELU\n",
    "    A2 = tf.keras.layers.ReLU()(Z2)\n",
    "    ## MAXPOOL: window 4x4, stride 4, padding 'SAME'\n",
    "    P2 = tf.keras.layers.MaxPool2D(pool_size=(4, 4), strides=(4, 4), padding='same')(A2)\n",
    "    \n",
    "    ## FLATTEN\n",
    "    F = tf.keras.layers.Flatten()(P2)\n",
    "    \n",
    "    ## Dense layer\n",
    "    ## 6 neurons in output layer. Hint: one of the arguments should be \"activation='softmax'\" \n",
    "    outputs = tf.keras.layers.Dense(units=6, activation='softmax')(F)\n",
    "    \n",
    "    # YOUR CODE ENDS HERE\n",
    "    model = tf.keras.Model(inputs=input_img, outputs=outputs)\n",
    "    return model"
   ]
  },
  {
   "cell_type": "code",
   "execution_count": 20,
   "metadata": {
    "deletable": false,
    "editable": false,
    "nbgrader": {
     "cell_type": "code",
     "checksum": "483d626949930a0b0ef20997e7c6ba72",
     "grade": true,
     "grade_id": "cell-45d22e92042174c9",
     "locked": true,
     "points": 10,
     "schema_version": 3,
     "solution": false,
     "task": false
    }
   },
   "outputs": [
    {
     "name": "stdout",
     "output_type": "stream",
     "text": [
      "Model: \"functional_1\"\n",
      "_________________________________________________________________\n",
      "Layer (type)                 Output Shape              Param #   \n",
      "=================================================================\n",
      "input_1 (InputLayer)         [(None, 64, 64, 3)]       0         \n",
      "_________________________________________________________________\n",
      "conv2d (Conv2D)              (None, 64, 64, 8)         392       \n",
      "_________________________________________________________________\n",
      "re_lu_2 (ReLU)               (None, 64, 64, 8)         0         \n",
      "_________________________________________________________________\n",
      "max_pooling2d_2 (MaxPooling2 (None, 8, 8, 8)           0         \n",
      "_________________________________________________________________\n",
      "conv2d_1 (Conv2D)            (None, 8, 8, 16)          528       \n",
      "_________________________________________________________________\n",
      "re_lu_3 (ReLU)               (None, 8, 8, 16)          0         \n",
      "_________________________________________________________________\n",
      "max_pooling2d_3 (MaxPooling2 (None, 2, 2, 16)          0         \n",
      "_________________________________________________________________\n",
      "flatten_2 (Flatten)          (None, 64)                0         \n",
      "_________________________________________________________________\n",
      "dense (Dense)                (None, 6)                 390       \n",
      "=================================================================\n",
      "Total params: 1,310\n",
      "Trainable params: 1,310\n",
      "Non-trainable params: 0\n",
      "_________________________________________________________________\n",
      "\u001b[32mAll tests passed!\u001b[0m\n"
     ]
    }
   ],
   "source": [
    "conv_model = convolutional_model((64, 64, 3))\n",
    "conv_model.compile(optimizer='adam',\n",
    "                  loss='categorical_crossentropy',\n",
    "                  metrics=['accuracy'])\n",
    "conv_model.summary()\n",
    "    \n",
    "output = [['InputLayer', [(None, 64, 64, 3)], 0],\n",
    "        ['Conv2D', (None, 64, 64, 8), 392, 'same', 'linear', 'GlorotUniform'],\n",
    "        ['ReLU', (None, 64, 64, 8), 0],\n",
    "        ['MaxPooling2D', (None, 8, 8, 8), 0, (8, 8), (8, 8), 'same'],\n",
    "        ['Conv2D', (None, 8, 8, 16), 528, 'same', 'linear', 'GlorotUniform'],\n",
    "        ['ReLU', (None, 8, 8, 16), 0],\n",
    "        ['MaxPooling2D', (None, 2, 2, 16), 0, (4, 4), (4, 4), 'same'],\n",
    "        ['Flatten', (None, 64), 0],\n",
    "        ['Dense', (None, 6), 390, 'softmax']]\n",
    "    \n",
    "comparator(summary(conv_model), output)"
   ]
  },
  {
   "cell_type": "markdown",
   "metadata": {},
   "source": [
    "Both the Sequential and Functional APIs return a TF Keras model object. The only difference is how inputs are handled inside the object model! "
   ]
  },
  {
   "cell_type": "markdown",
   "metadata": {},
   "source": [
    "<a name='4-4'></a>\n",
    "### 4.4 - Train the Model"
   ]
  },
  {
   "cell_type": "code",
   "execution_count": 21,
   "metadata": {},
   "outputs": [
    {
     "name": "stdout",
     "output_type": "stream",
     "text": [
      "Epoch 1/100\n",
      "17/17 [==============================] - 2s 107ms/step - loss: 1.7990 - accuracy: 0.1676 - val_loss: 1.7871 - val_accuracy: 0.1500\n",
      "Epoch 2/100\n",
      "17/17 [==============================] - 2s 112ms/step - loss: 1.7867 - accuracy: 0.1787 - val_loss: 1.7805 - val_accuracy: 0.2000\n",
      "Epoch 3/100\n",
      "17/17 [==============================] - 2s 106ms/step - loss: 1.7806 - accuracy: 0.2111 - val_loss: 1.7762 - val_accuracy: 0.2000\n",
      "Epoch 4/100\n",
      "17/17 [==============================] - 2s 106ms/step - loss: 1.7730 - accuracy: 0.2167 - val_loss: 1.7682 - val_accuracy: 0.2083\n",
      "Epoch 5/100\n",
      "17/17 [==============================] - 2s 107ms/step - loss: 1.7627 - accuracy: 0.2620 - val_loss: 1.7610 - val_accuracy: 0.3417\n",
      "Epoch 6/100\n",
      "17/17 [==============================] - 2s 106ms/step - loss: 1.7521 - accuracy: 0.3398 - val_loss: 1.7520 - val_accuracy: 0.3417\n",
      "Epoch 7/100\n",
      "17/17 [==============================] - 2s 106ms/step - loss: 1.7425 - accuracy: 0.3611 - val_loss: 1.7400 - val_accuracy: 0.3833\n",
      "Epoch 8/100\n",
      "17/17 [==============================] - 2s 106ms/step - loss: 1.7297 - accuracy: 0.3611 - val_loss: 1.7278 - val_accuracy: 0.3917\n",
      "Epoch 9/100\n",
      "17/17 [==============================] - 2s 111ms/step - loss: 1.7151 - accuracy: 0.3861 - val_loss: 1.7105 - val_accuracy: 0.4000\n",
      "Epoch 10/100\n",
      "17/17 [==============================] - 2s 106ms/step - loss: 1.6947 - accuracy: 0.4370 - val_loss: 1.6892 - val_accuracy: 0.3667\n",
      "Epoch 11/100\n",
      "17/17 [==============================] - 2s 106ms/step - loss: 1.6706 - accuracy: 0.4389 - val_loss: 1.6687 - val_accuracy: 0.4083\n",
      "Epoch 12/100\n",
      "17/17 [==============================] - 2s 106ms/step - loss: 1.6463 - accuracy: 0.4204 - val_loss: 1.6464 - val_accuracy: 0.4250\n",
      "Epoch 13/100\n",
      "17/17 [==============================] - 2s 106ms/step - loss: 1.6192 - accuracy: 0.4333 - val_loss: 1.6152 - val_accuracy: 0.4000\n",
      "Epoch 14/100\n",
      "17/17 [==============================] - 2s 106ms/step - loss: 1.5821 - accuracy: 0.4657 - val_loss: 1.5817 - val_accuracy: 0.4167\n",
      "Epoch 15/100\n",
      "17/17 [==============================] - 2s 106ms/step - loss: 1.5376 - accuracy: 0.4843 - val_loss: 1.5514 - val_accuracy: 0.4167\n",
      "Epoch 16/100\n",
      "17/17 [==============================] - 2s 106ms/step - loss: 1.4931 - accuracy: 0.4972 - val_loss: 1.5197 - val_accuracy: 0.3833\n",
      "Epoch 17/100\n",
      "17/17 [==============================] - 2s 106ms/step - loss: 1.4439 - accuracy: 0.5074 - val_loss: 1.4848 - val_accuracy: 0.4250\n",
      "Epoch 18/100\n",
      "17/17 [==============================] - 2s 107ms/step - loss: 1.3921 - accuracy: 0.5333 - val_loss: 1.4410 - val_accuracy: 0.4500\n",
      "Epoch 19/100\n",
      "17/17 [==============================] - 2s 112ms/step - loss: 1.3381 - accuracy: 0.5556 - val_loss: 1.3889 - val_accuracy: 0.4667\n",
      "Epoch 20/100\n",
      "17/17 [==============================] - 2s 111ms/step - loss: 1.2855 - accuracy: 0.5769 - val_loss: 1.3355 - val_accuracy: 0.4833\n",
      "Epoch 21/100\n",
      "17/17 [==============================] - 2s 106ms/step - loss: 1.2384 - accuracy: 0.5944 - val_loss: 1.2865 - val_accuracy: 0.5000\n",
      "Epoch 22/100\n",
      "17/17 [==============================] - 2s 112ms/step - loss: 1.1935 - accuracy: 0.6120 - val_loss: 1.2418 - val_accuracy: 0.4917\n",
      "Epoch 23/100\n",
      "17/17 [==============================] - 2s 107ms/step - loss: 1.1513 - accuracy: 0.6222 - val_loss: 1.1998 - val_accuracy: 0.5083\n",
      "Epoch 24/100\n",
      "17/17 [==============================] - 2s 106ms/step - loss: 1.1117 - accuracy: 0.6333 - val_loss: 1.1600 - val_accuracy: 0.5167\n",
      "Epoch 25/100\n",
      "17/17 [==============================] - 2s 106ms/step - loss: 1.0745 - accuracy: 0.6454 - val_loss: 1.1226 - val_accuracy: 0.5167\n",
      "Epoch 26/100\n",
      "17/17 [==============================] - 2s 101ms/step - loss: 1.0396 - accuracy: 0.6593 - val_loss: 1.0878 - val_accuracy: 0.5250\n",
      "Epoch 27/100\n",
      "17/17 [==============================] - 2s 106ms/step - loss: 1.0072 - accuracy: 0.6685 - val_loss: 1.0561 - val_accuracy: 0.5417\n",
      "Epoch 28/100\n",
      "17/17 [==============================] - 2s 106ms/step - loss: 0.9765 - accuracy: 0.6806 - val_loss: 1.0230 - val_accuracy: 0.5500\n",
      "Epoch 29/100\n",
      "17/17 [==============================] - 2s 106ms/step - loss: 0.9477 - accuracy: 0.6880 - val_loss: 0.9943 - val_accuracy: 0.5583\n",
      "Epoch 30/100\n",
      "17/17 [==============================] - 2s 106ms/step - loss: 0.9191 - accuracy: 0.6972 - val_loss: 0.9630 - val_accuracy: 0.5750\n",
      "Epoch 31/100\n",
      "17/17 [==============================] - 2s 106ms/step - loss: 0.8918 - accuracy: 0.7139 - val_loss: 0.9352 - val_accuracy: 0.6167\n",
      "Epoch 32/100\n",
      "17/17 [==============================] - 2s 106ms/step - loss: 0.8666 - accuracy: 0.7213 - val_loss: 0.9106 - val_accuracy: 0.6417\n",
      "Epoch 33/100\n",
      "17/17 [==============================] - 2s 106ms/step - loss: 0.8426 - accuracy: 0.7315 - val_loss: 0.8861 - val_accuracy: 0.6417\n",
      "Epoch 34/100\n",
      "17/17 [==============================] - 2s 111ms/step - loss: 0.8201 - accuracy: 0.7361 - val_loss: 0.8653 - val_accuracy: 0.6333\n",
      "Epoch 35/100\n",
      "17/17 [==============================] - 2s 107ms/step - loss: 0.7996 - accuracy: 0.7491 - val_loss: 0.8461 - val_accuracy: 0.6333\n",
      "Epoch 36/100\n",
      "17/17 [==============================] - 2s 106ms/step - loss: 0.7801 - accuracy: 0.7556 - val_loss: 0.8289 - val_accuracy: 0.6417\n",
      "Epoch 37/100\n",
      "17/17 [==============================] - 2s 106ms/step - loss: 0.7615 - accuracy: 0.7630 - val_loss: 0.8131 - val_accuracy: 0.6583\n",
      "Epoch 38/100\n",
      "17/17 [==============================] - 2s 111ms/step - loss: 0.7438 - accuracy: 0.7676 - val_loss: 0.7983 - val_accuracy: 0.6667\n",
      "Epoch 39/100\n",
      "17/17 [==============================] - 2s 106ms/step - loss: 0.7270 - accuracy: 0.7722 - val_loss: 0.7828 - val_accuracy: 0.6667\n",
      "Epoch 40/100\n",
      "17/17 [==============================] - 2s 106ms/step - loss: 0.7106 - accuracy: 0.7750 - val_loss: 0.7683 - val_accuracy: 0.6750\n",
      "Epoch 41/100\n",
      "17/17 [==============================] - 2s 106ms/step - loss: 0.6951 - accuracy: 0.7843 - val_loss: 0.7545 - val_accuracy: 0.6833\n",
      "Epoch 42/100\n",
      "17/17 [==============================] - 2s 106ms/step - loss: 0.6799 - accuracy: 0.7870 - val_loss: 0.7403 - val_accuracy: 0.6917\n",
      "Epoch 43/100\n",
      "17/17 [==============================] - 2s 111ms/step - loss: 0.6658 - accuracy: 0.7926 - val_loss: 0.7271 - val_accuracy: 0.6917\n",
      "Epoch 44/100\n",
      "17/17 [==============================] - 2s 106ms/step - loss: 0.6519 - accuracy: 0.7981 - val_loss: 0.7144 - val_accuracy: 0.7083\n",
      "Epoch 45/100\n",
      "17/17 [==============================] - 2s 106ms/step - loss: 0.6385 - accuracy: 0.8009 - val_loss: 0.7004 - val_accuracy: 0.7250\n",
      "Epoch 46/100\n",
      "17/17 [==============================] - 2s 112ms/step - loss: 0.6254 - accuracy: 0.8102 - val_loss: 0.6879 - val_accuracy: 0.7250\n",
      "Epoch 47/100\n",
      "17/17 [==============================] - 2s 106ms/step - loss: 0.6129 - accuracy: 0.8111 - val_loss: 0.6757 - val_accuracy: 0.7333\n",
      "Epoch 48/100\n",
      "17/17 [==============================] - 2s 106ms/step - loss: 0.6009 - accuracy: 0.8130 - val_loss: 0.6640 - val_accuracy: 0.7500\n",
      "Epoch 49/100\n",
      "17/17 [==============================] - 2s 107ms/step - loss: 0.5900 - accuracy: 0.8157 - val_loss: 0.6531 - val_accuracy: 0.7500\n",
      "Epoch 50/100\n",
      "17/17 [==============================] - 2s 107ms/step - loss: 0.5796 - accuracy: 0.8194 - val_loss: 0.6430 - val_accuracy: 0.7583\n",
      "Epoch 51/100\n",
      "17/17 [==============================] - 2s 106ms/step - loss: 0.5695 - accuracy: 0.8259 - val_loss: 0.6317 - val_accuracy: 0.7500\n",
      "Epoch 52/100\n",
      "17/17 [==============================] - 2s 112ms/step - loss: 0.5596 - accuracy: 0.8296 - val_loss: 0.6217 - val_accuracy: 0.7583\n",
      "Epoch 53/100\n",
      "17/17 [==============================] - 2s 106ms/step - loss: 0.5499 - accuracy: 0.8352 - val_loss: 0.6109 - val_accuracy: 0.7583\n",
      "Epoch 54/100\n",
      "17/17 [==============================] - 2s 117ms/step - loss: 0.5408 - accuracy: 0.8380 - val_loss: 0.6020 - val_accuracy: 0.7667\n",
      "Epoch 55/100\n",
      "17/17 [==============================] - 2s 106ms/step - loss: 0.5320 - accuracy: 0.8398 - val_loss: 0.5922 - val_accuracy: 0.7667\n",
      "Epoch 56/100\n",
      "17/17 [==============================] - 2s 106ms/step - loss: 0.5238 - accuracy: 0.8454 - val_loss: 0.5840 - val_accuracy: 0.7667\n",
      "Epoch 57/100\n",
      "17/17 [==============================] - 2s 106ms/step - loss: 0.5157 - accuracy: 0.8481 - val_loss: 0.5754 - val_accuracy: 0.7583\n",
      "Epoch 58/100\n",
      "17/17 [==============================] - 2s 106ms/step - loss: 0.5077 - accuracy: 0.8519 - val_loss: 0.5667 - val_accuracy: 0.7667\n",
      "Epoch 59/100\n",
      "17/17 [==============================] - 2s 106ms/step - loss: 0.5004 - accuracy: 0.8528 - val_loss: 0.5595 - val_accuracy: 0.7667\n",
      "Epoch 60/100\n",
      "17/17 [==============================] - 2s 107ms/step - loss: 0.4931 - accuracy: 0.8546 - val_loss: 0.5517 - val_accuracy: 0.7750\n",
      "Epoch 61/100\n",
      "17/17 [==============================] - 2s 106ms/step - loss: 0.4862 - accuracy: 0.8556 - val_loss: 0.5447 - val_accuracy: 0.7750\n",
      "Epoch 62/100\n",
      "17/17 [==============================] - 2s 106ms/step - loss: 0.4792 - accuracy: 0.8593 - val_loss: 0.5373 - val_accuracy: 0.7667\n",
      "Epoch 63/100\n",
      "17/17 [==============================] - 2s 107ms/step - loss: 0.4725 - accuracy: 0.8602 - val_loss: 0.5305 - val_accuracy: 0.7750\n",
      "Epoch 64/100\n",
      "17/17 [==============================] - 2s 107ms/step - loss: 0.4661 - accuracy: 0.8648 - val_loss: 0.5242 - val_accuracy: 0.7750\n",
      "Epoch 65/100\n",
      "17/17 [==============================] - 2s 106ms/step - loss: 0.4600 - accuracy: 0.8648 - val_loss: 0.5178 - val_accuracy: 0.7750\n",
      "Epoch 66/100\n",
      "17/17 [==============================] - 2s 106ms/step - loss: 0.4540 - accuracy: 0.8685 - val_loss: 0.5118 - val_accuracy: 0.7833\n",
      "Epoch 67/100\n",
      "17/17 [==============================] - 2s 107ms/step - loss: 0.4482 - accuracy: 0.8741 - val_loss: 0.5057 - val_accuracy: 0.7833\n",
      "Epoch 68/100\n",
      "17/17 [==============================] - 2s 107ms/step - loss: 0.4427 - accuracy: 0.8769 - val_loss: 0.5006 - val_accuracy: 0.7917\n",
      "Epoch 69/100\n",
      "17/17 [==============================] - 2s 106ms/step - loss: 0.4372 - accuracy: 0.8759 - val_loss: 0.4945 - val_accuracy: 0.7917\n",
      "Epoch 70/100\n",
      "17/17 [==============================] - 2s 106ms/step - loss: 0.4319 - accuracy: 0.8769 - val_loss: 0.4895 - val_accuracy: 0.7917\n",
      "Epoch 71/100\n",
      "17/17 [==============================] - 2s 107ms/step - loss: 0.4265 - accuracy: 0.8769 - val_loss: 0.4840 - val_accuracy: 0.7917\n",
      "Epoch 72/100\n",
      "17/17 [==============================] - 2s 107ms/step - loss: 0.4214 - accuracy: 0.8778 - val_loss: 0.4795 - val_accuracy: 0.7917\n",
      "Epoch 73/100\n",
      "17/17 [==============================] - 2s 107ms/step - loss: 0.4164 - accuracy: 0.8769 - val_loss: 0.4735 - val_accuracy: 0.8000\n",
      "Epoch 74/100\n",
      "17/17 [==============================] - 2s 111ms/step - loss: 0.4115 - accuracy: 0.8778 - val_loss: 0.4691 - val_accuracy: 0.7917\n",
      "Epoch 75/100\n",
      "17/17 [==============================] - 2s 106ms/step - loss: 0.4066 - accuracy: 0.8778 - val_loss: 0.4643 - val_accuracy: 0.7917\n",
      "Epoch 76/100\n",
      "17/17 [==============================] - 2s 106ms/step - loss: 0.4021 - accuracy: 0.8796 - val_loss: 0.4595 - val_accuracy: 0.8083\n",
      "Epoch 77/100\n",
      "17/17 [==============================] - 2s 106ms/step - loss: 0.3976 - accuracy: 0.8815 - val_loss: 0.4549 - val_accuracy: 0.8083\n",
      "Epoch 78/100\n",
      "17/17 [==============================] - 2s 107ms/step - loss: 0.3932 - accuracy: 0.8843 - val_loss: 0.4512 - val_accuracy: 0.8083\n",
      "Epoch 79/100\n",
      "17/17 [==============================] - 2s 106ms/step - loss: 0.3889 - accuracy: 0.8852 - val_loss: 0.4472 - val_accuracy: 0.8083\n",
      "Epoch 80/100\n",
      "17/17 [==============================] - 2s 117ms/step - loss: 0.3846 - accuracy: 0.8852 - val_loss: 0.4433 - val_accuracy: 0.8083\n",
      "Epoch 81/100\n",
      "17/17 [==============================] - 2s 107ms/step - loss: 0.3805 - accuracy: 0.8852 - val_loss: 0.4397 - val_accuracy: 0.8083\n",
      "Epoch 82/100\n",
      "17/17 [==============================] - 2s 112ms/step - loss: 0.3763 - accuracy: 0.8870 - val_loss: 0.4361 - val_accuracy: 0.8083\n",
      "Epoch 83/100\n",
      "17/17 [==============================] - 2s 111ms/step - loss: 0.3725 - accuracy: 0.8861 - val_loss: 0.4326 - val_accuracy: 0.8167\n",
      "Epoch 84/100\n",
      "17/17 [==============================] - 2s 111ms/step - loss: 0.3685 - accuracy: 0.8870 - val_loss: 0.4286 - val_accuracy: 0.8167\n",
      "Epoch 85/100\n",
      "17/17 [==============================] - 2s 111ms/step - loss: 0.3646 - accuracy: 0.8889 - val_loss: 0.4253 - val_accuracy: 0.8167\n",
      "Epoch 86/100\n",
      "17/17 [==============================] - 2s 106ms/step - loss: 0.3607 - accuracy: 0.8907 - val_loss: 0.4219 - val_accuracy: 0.8167\n",
      "Epoch 87/100\n",
      "17/17 [==============================] - 2s 106ms/step - loss: 0.3572 - accuracy: 0.8907 - val_loss: 0.4188 - val_accuracy: 0.8167\n",
      "Epoch 88/100\n",
      "17/17 [==============================] - 2s 107ms/step - loss: 0.3534 - accuracy: 0.8917 - val_loss: 0.4152 - val_accuracy: 0.8167\n",
      "Epoch 89/100\n",
      "17/17 [==============================] - 2s 106ms/step - loss: 0.3498 - accuracy: 0.8917 - val_loss: 0.4125 - val_accuracy: 0.8167\n",
      "Epoch 90/100\n",
      "17/17 [==============================] - 2s 106ms/step - loss: 0.3463 - accuracy: 0.8926 - val_loss: 0.4097 - val_accuracy: 0.8167\n",
      "Epoch 91/100\n",
      "17/17 [==============================] - 2s 106ms/step - loss: 0.3430 - accuracy: 0.8935 - val_loss: 0.4068 - val_accuracy: 0.8167\n",
      "Epoch 92/100\n",
      "17/17 [==============================] - 2s 106ms/step - loss: 0.3397 - accuracy: 0.8944 - val_loss: 0.4038 - val_accuracy: 0.8167\n",
      "Epoch 93/100\n",
      "17/17 [==============================] - 2s 107ms/step - loss: 0.3363 - accuracy: 0.8944 - val_loss: 0.4008 - val_accuracy: 0.8250\n",
      "Epoch 94/100\n",
      "17/17 [==============================] - 2s 112ms/step - loss: 0.3331 - accuracy: 0.8963 - val_loss: 0.3976 - val_accuracy: 0.8250\n",
      "Epoch 95/100\n",
      "17/17 [==============================] - 2s 112ms/step - loss: 0.3299 - accuracy: 0.8981 - val_loss: 0.3949 - val_accuracy: 0.8250\n",
      "Epoch 96/100\n",
      "17/17 [==============================] - 2s 106ms/step - loss: 0.3268 - accuracy: 0.9000 - val_loss: 0.3920 - val_accuracy: 0.8333\n",
      "Epoch 97/100\n",
      "17/17 [==============================] - 2s 106ms/step - loss: 0.3239 - accuracy: 0.9009 - val_loss: 0.3901 - val_accuracy: 0.8333\n",
      "Epoch 98/100\n",
      "17/17 [==============================] - 2s 106ms/step - loss: 0.3208 - accuracy: 0.9019 - val_loss: 0.3872 - val_accuracy: 0.8333\n",
      "Epoch 99/100\n",
      "17/17 [==============================] - 2s 106ms/step - loss: 0.3180 - accuracy: 0.9028 - val_loss: 0.3852 - val_accuracy: 0.8333\n",
      "Epoch 100/100\n",
      "17/17 [==============================] - 2s 106ms/step - loss: 0.3149 - accuracy: 0.9037 - val_loss: 0.3822 - val_accuracy: 0.8333\n"
     ]
    }
   ],
   "source": [
    "train_dataset = tf.data.Dataset.from_tensor_slices((X_train, Y_train)).batch(64)\n",
    "test_dataset = tf.data.Dataset.from_tensor_slices((X_test, Y_test)).batch(64)\n",
    "history = conv_model.fit(train_dataset, epochs=100, validation_data=test_dataset)"
   ]
  },
  {
   "cell_type": "markdown",
   "metadata": {},
   "source": [
    "<a name='5'></a>\n",
    "## 5 - History Object \n",
    "\n",
    "The history object is an output of the `.fit()` operation, and provides a record of all the loss and metric values in memory. It's stored as a dictionary that you can retrieve at `history.history`: "
   ]
  },
  {
   "cell_type": "code",
   "execution_count": 24,
   "metadata": {},
   "outputs": [
    {
     "data": {
      "text/plain": [
       "{'loss': [1.7989752292633057,\n",
       "  1.7867295742034912,\n",
       "  1.7805668115615845,\n",
       "  1.7730059623718262,\n",
       "  1.762721300125122,\n",
       "  1.7520517110824585,\n",
       "  1.7425404787063599,\n",
       "  1.7297261953353882,\n",
       "  1.715058445930481,\n",
       "  1.6946717500686646,\n",
       "  1.670554757118225,\n",
       "  1.6463377475738525,\n",
       "  1.6191507577896118,\n",
       "  1.5820674896240234,\n",
       "  1.5375839471817017,\n",
       "  1.4930657148361206,\n",
       "  1.4438735246658325,\n",
       "  1.3920707702636719,\n",
       "  1.3381171226501465,\n",
       "  1.2855170965194702,\n",
       "  1.238356590270996,\n",
       "  1.193534016609192,\n",
       "  1.151257872581482,\n",
       "  1.11171293258667,\n",
       "  1.0744518041610718,\n",
       "  1.0396305322647095,\n",
       "  1.007167935371399,\n",
       "  0.9765369296073914,\n",
       "  0.9476595520973206,\n",
       "  0.9191226959228516,\n",
       "  0.8918307423591614,\n",
       "  0.8666312098503113,\n",
       "  0.8425919413566589,\n",
       "  0.8201030492782593,\n",
       "  0.7995845079421997,\n",
       "  0.7800845503807068,\n",
       "  0.761543333530426,\n",
       "  0.7437633275985718,\n",
       "  0.7270416617393494,\n",
       "  0.7105740904808044,\n",
       "  0.6951457858085632,\n",
       "  0.6798760890960693,\n",
       "  0.665787398815155,\n",
       "  0.6518985033035278,\n",
       "  0.6385299563407898,\n",
       "  0.6253663897514343,\n",
       "  0.6128934621810913,\n",
       "  0.6009289026260376,\n",
       "  0.5899707078933716,\n",
       "  0.5795803070068359,\n",
       "  0.5695267915725708,\n",
       "  0.5595959424972534,\n",
       "  0.5499351620674133,\n",
       "  0.5407871007919312,\n",
       "  0.5319966673851013,\n",
       "  0.5238151550292969,\n",
       "  0.5157204270362854,\n",
       "  0.5077369809150696,\n",
       "  0.5004135370254517,\n",
       "  0.4930647611618042,\n",
       "  0.4862188696861267,\n",
       "  0.47921186685562134,\n",
       "  0.4725108742713928,\n",
       "  0.46614590287208557,\n",
       "  0.46002116799354553,\n",
       "  0.45400485396385193,\n",
       "  0.4482245147228241,\n",
       "  0.44271573424339294,\n",
       "  0.43715405464172363,\n",
       "  0.43185028433799744,\n",
       "  0.42653021216392517,\n",
       "  0.4213933050632477,\n",
       "  0.4163968563079834,\n",
       "  0.41145461797714233,\n",
       "  0.4066350758075714,\n",
       "  0.4020623564720154,\n",
       "  0.39760449528694153,\n",
       "  0.39324086904525757,\n",
       "  0.3889380693435669,\n",
       "  0.38461706042289734,\n",
       "  0.3804560899734497,\n",
       "  0.3762701153755188,\n",
       "  0.37248948216438293,\n",
       "  0.3684602379798889,\n",
       "  0.3645910918712616,\n",
       "  0.3607201874256134,\n",
       "  0.35716184973716736,\n",
       "  0.3534320890903473,\n",
       "  0.3498157560825348,\n",
       "  0.3463236093521118,\n",
       "  0.34304651618003845,\n",
       "  0.3397327959537506,\n",
       "  0.33627328276634216,\n",
       "  0.33312681317329407,\n",
       "  0.32986241579055786,\n",
       "  0.32677018642425537,\n",
       "  0.3238734304904938,\n",
       "  0.3207736909389496,\n",
       "  0.3180021643638611,\n",
       "  0.31494516134262085],\n",
       " 'accuracy': [0.1675925999879837,\n",
       "  0.17870371043682098,\n",
       "  0.21111111342906952,\n",
       "  0.21666666865348816,\n",
       "  0.2620370388031006,\n",
       "  0.33981481194496155,\n",
       "  0.3611111044883728,\n",
       "  0.3611111044883728,\n",
       "  0.3861111104488373,\n",
       "  0.43703705072402954,\n",
       "  0.43888887763023376,\n",
       "  0.4203703701496124,\n",
       "  0.4333333373069763,\n",
       "  0.46574074029922485,\n",
       "  0.4842592477798462,\n",
       "  0.4972222149372101,\n",
       "  0.5074074268341064,\n",
       "  0.5333333611488342,\n",
       "  0.5555555820465088,\n",
       "  0.5768518447875977,\n",
       "  0.5944444537162781,\n",
       "  0.6120370626449585,\n",
       "  0.6222222447395325,\n",
       "  0.6333333253860474,\n",
       "  0.645370364189148,\n",
       "  0.6592592597007751,\n",
       "  0.6685185432434082,\n",
       "  0.6805555820465088,\n",
       "  0.6879629492759705,\n",
       "  0.6972222328186035,\n",
       "  0.7138888835906982,\n",
       "  0.7212963104248047,\n",
       "  0.7314814925193787,\n",
       "  0.7361111044883728,\n",
       "  0.7490741014480591,\n",
       "  0.7555555701255798,\n",
       "  0.7629629373550415,\n",
       "  0.7675926089286804,\n",
       "  0.7722222208976746,\n",
       "  0.7749999761581421,\n",
       "  0.7842592597007751,\n",
       "  0.7870370149612427,\n",
       "  0.7925925850868225,\n",
       "  0.7981481552124023,\n",
       "  0.8009259104728699,\n",
       "  0.8101851940155029,\n",
       "  0.8111110925674438,\n",
       "  0.8129629492759705,\n",
       "  0.8157407641410828,\n",
       "  0.8194444179534912,\n",
       "  0.8259259462356567,\n",
       "  0.8296296000480652,\n",
       "  0.835185170173645,\n",
       "  0.8379629850387573,\n",
       "  0.8398148417472839,\n",
       "  0.845370352268219,\n",
       "  0.8481481671333313,\n",
       "  0.8518518805503845,\n",
       "  0.8527777791023254,\n",
       "  0.854629635810852,\n",
       "  0.855555534362793,\n",
       "  0.8592592477798462,\n",
       "  0.8601852059364319,\n",
       "  0.864814817905426,\n",
       "  0.864814817905426,\n",
       "  0.8685185313224792,\n",
       "  0.8740741014480591,\n",
       "  0.8768518567085266,\n",
       "  0.8759258985519409,\n",
       "  0.8768518567085266,\n",
       "  0.8768518567085266,\n",
       "  0.8777777552604675,\n",
       "  0.8768518567085266,\n",
       "  0.8777777552604675,\n",
       "  0.8777777552604675,\n",
       "  0.8796296119689941,\n",
       "  0.8814814686775208,\n",
       "  0.8842592835426331,\n",
       "  0.885185182094574,\n",
       "  0.885185182094574,\n",
       "  0.885185182094574,\n",
       "  0.8870370388031006,\n",
       "  0.8861111402511597,\n",
       "  0.8870370388031006,\n",
       "  0.8888888955116272,\n",
       "  0.8907407522201538,\n",
       "  0.8907407522201538,\n",
       "  0.8916666507720947,\n",
       "  0.8916666507720947,\n",
       "  0.8925926089286804,\n",
       "  0.8935185074806213,\n",
       "  0.894444465637207,\n",
       "  0.894444465637207,\n",
       "  0.8962963223457336,\n",
       "  0.8981481194496155,\n",
       "  0.8999999761581421,\n",
       "  0.9009259343147278,\n",
       "  0.9018518328666687,\n",
       "  0.9027777910232544,\n",
       "  0.9037036895751953],\n",
       " 'val_loss': [1.7870639562606812,\n",
       "  1.7805088758468628,\n",
       "  1.7762055397033691,\n",
       "  1.7681870460510254,\n",
       "  1.7610383033752441,\n",
       "  1.7519856691360474,\n",
       "  1.7400013208389282,\n",
       "  1.7277799844741821,\n",
       "  1.7104907035827637,\n",
       "  1.6892331838607788,\n",
       "  1.6687417030334473,\n",
       "  1.646399736404419,\n",
       "  1.615170955657959,\n",
       "  1.5817285776138306,\n",
       "  1.551429033279419,\n",
       "  1.5196856260299683,\n",
       "  1.484818696975708,\n",
       "  1.4409724473953247,\n",
       "  1.3889317512512207,\n",
       "  1.3355491161346436,\n",
       "  1.286481261253357,\n",
       "  1.2417718172073364,\n",
       "  1.1997582912445068,\n",
       "  1.1599785089492798,\n",
       "  1.1226279735565186,\n",
       "  1.087817907333374,\n",
       "  1.0560911893844604,\n",
       "  1.0230263471603394,\n",
       "  0.9943481683731079,\n",
       "  0.9630098342895508,\n",
       "  0.9352155327796936,\n",
       "  0.9106113314628601,\n",
       "  0.8861190676689148,\n",
       "  0.8653020858764648,\n",
       "  0.8460824489593506,\n",
       "  0.8288742303848267,\n",
       "  0.8130828738212585,\n",
       "  0.7982680201530457,\n",
       "  0.782822847366333,\n",
       "  0.7683492302894592,\n",
       "  0.7544613480567932,\n",
       "  0.7403119802474976,\n",
       "  0.72709721326828,\n",
       "  0.7143779993057251,\n",
       "  0.7004358172416687,\n",
       "  0.6879282593727112,\n",
       "  0.6757288575172424,\n",
       "  0.66398686170578,\n",
       "  0.6531144976615906,\n",
       "  0.6429528594017029,\n",
       "  0.631717324256897,\n",
       "  0.6216987371444702,\n",
       "  0.6109479069709778,\n",
       "  0.6019593477249146,\n",
       "  0.5922477841377258,\n",
       "  0.5840241312980652,\n",
       "  0.5753834843635559,\n",
       "  0.566698431968689,\n",
       "  0.5595325231552124,\n",
       "  0.5516623258590698,\n",
       "  0.5446557402610779,\n",
       "  0.5373438596725464,\n",
       "  0.5305126905441284,\n",
       "  0.5241833925247192,\n",
       "  0.5178028345108032,\n",
       "  0.511782169342041,\n",
       "  0.5056741833686829,\n",
       "  0.5005689859390259,\n",
       "  0.4945245683193207,\n",
       "  0.4895373582839966,\n",
       "  0.48397254943847656,\n",
       "  0.47945988178253174,\n",
       "  0.4734814763069153,\n",
       "  0.4690818190574646,\n",
       "  0.4642724394798279,\n",
       "  0.45947691798210144,\n",
       "  0.454935759305954,\n",
       "  0.45121076703071594,\n",
       "  0.4472280740737915,\n",
       "  0.4433080852031708,\n",
       "  0.4397090971469879,\n",
       "  0.43611064553260803,\n",
       "  0.4326089024543762,\n",
       "  0.42859309911727905,\n",
       "  0.42529234290122986,\n",
       "  0.42189884185791016,\n",
       "  0.4188319444656372,\n",
       "  0.4152128994464874,\n",
       "  0.4125443696975708,\n",
       "  0.4096965789794922,\n",
       "  0.4068283140659332,\n",
       "  0.4038223326206207,\n",
       "  0.40084564685821533,\n",
       "  0.3975965678691864,\n",
       "  0.3949097990989685,\n",
       "  0.39197924733161926,\n",
       "  0.39010003209114075,\n",
       "  0.38716843724250793,\n",
       "  0.38524767756462097,\n",
       "  0.38223665952682495],\n",
       " 'val_accuracy': [0.15000000596046448,\n",
       "  0.20000000298023224,\n",
       "  0.20000000298023224,\n",
       "  0.2083333283662796,\n",
       "  0.34166666865348816,\n",
       "  0.34166666865348816,\n",
       "  0.38333332538604736,\n",
       "  0.3916666805744171,\n",
       "  0.4000000059604645,\n",
       "  0.36666667461395264,\n",
       "  0.40833333134651184,\n",
       "  0.42500001192092896,\n",
       "  0.4000000059604645,\n",
       "  0.4166666567325592,\n",
       "  0.4166666567325592,\n",
       "  0.38333332538604736,\n",
       "  0.42500001192092896,\n",
       "  0.44999998807907104,\n",
       "  0.46666666865348816,\n",
       "  0.4833333194255829,\n",
       "  0.5,\n",
       "  0.49166667461395264,\n",
       "  0.5083333253860474,\n",
       "  0.5166666507720947,\n",
       "  0.5166666507720947,\n",
       "  0.5249999761581421,\n",
       "  0.5416666865348816,\n",
       "  0.550000011920929,\n",
       "  0.5583333373069763,\n",
       "  0.574999988079071,\n",
       "  0.6166666746139526,\n",
       "  0.6416666507720947,\n",
       "  0.6416666507720947,\n",
       "  0.6333333253860474,\n",
       "  0.6333333253860474,\n",
       "  0.6416666507720947,\n",
       "  0.6583333611488342,\n",
       "  0.6666666865348816,\n",
       "  0.6666666865348816,\n",
       "  0.675000011920929,\n",
       "  0.6833333373069763,\n",
       "  0.6916666626930237,\n",
       "  0.6916666626930237,\n",
       "  0.7083333134651184,\n",
       "  0.7250000238418579,\n",
       "  0.7250000238418579,\n",
       "  0.7333333492279053,\n",
       "  0.75,\n",
       "  0.75,\n",
       "  0.7583333253860474,\n",
       "  0.75,\n",
       "  0.7583333253860474,\n",
       "  0.7583333253860474,\n",
       "  0.7666666507720947,\n",
       "  0.7666666507720947,\n",
       "  0.7666666507720947,\n",
       "  0.7583333253860474,\n",
       "  0.7666666507720947,\n",
       "  0.7666666507720947,\n",
       "  0.7749999761581421,\n",
       "  0.7749999761581421,\n",
       "  0.7666666507720947,\n",
       "  0.7749999761581421,\n",
       "  0.7749999761581421,\n",
       "  0.7749999761581421,\n",
       "  0.7833333611488342,\n",
       "  0.7833333611488342,\n",
       "  0.7916666865348816,\n",
       "  0.7916666865348816,\n",
       "  0.7916666865348816,\n",
       "  0.7916666865348816,\n",
       "  0.7916666865348816,\n",
       "  0.800000011920929,\n",
       "  0.7916666865348816,\n",
       "  0.7916666865348816,\n",
       "  0.8083333373069763,\n",
       "  0.8083333373069763,\n",
       "  0.8083333373069763,\n",
       "  0.8083333373069763,\n",
       "  0.8083333373069763,\n",
       "  0.8083333373069763,\n",
       "  0.8083333373069763,\n",
       "  0.8166666626930237,\n",
       "  0.8166666626930237,\n",
       "  0.8166666626930237,\n",
       "  0.8166666626930237,\n",
       "  0.8166666626930237,\n",
       "  0.8166666626930237,\n",
       "  0.8166666626930237,\n",
       "  0.8166666626930237,\n",
       "  0.8166666626930237,\n",
       "  0.8166666626930237,\n",
       "  0.824999988079071,\n",
       "  0.824999988079071,\n",
       "  0.824999988079071,\n",
       "  0.8333333134651184,\n",
       "  0.8333333134651184,\n",
       "  0.8333333134651184,\n",
       "  0.8333333134651184,\n",
       "  0.8333333134651184]}"
      ]
     },
     "execution_count": 24,
     "metadata": {},
     "output_type": "execute_result"
    }
   ],
   "source": [
    "history.history"
   ]
  },
  {
   "cell_type": "markdown",
   "metadata": {},
   "source": [
    "Now visualize the loss over time using `history.history`: "
   ]
  },
  {
   "cell_type": "code",
   "execution_count": 26,
   "metadata": {},
   "outputs": [
    {
     "data": {
      "text/plain": [
       "[Text(0, 0.5, 'Accuracy'), Text(0.5, 0, 'Epoch')]"
      ]
     },
     "execution_count": 26,
     "metadata": {},
     "output_type": "execute_result"
    },
    {
     "data": {
      "image/png": "[encoded data removed]",
      "text/plain": [
       "<Figure size 864x576 with 1 Axes>"
      ]
     },
     "metadata": {
      "needs_background": "light"
     },
     "output_type": "display_data"
    },
    {
     "data": {
      "image/png": "[encoded data removed]",
      "text/plain": [
       "<Figure size 864x576 with 1 Axes>"
      ]
     },
     "metadata": {
      "needs_background": "light"
     },
     "output_type": "display_data"
    }
   ],
   "source": [
    "# The history.history[\"loss\"] entry is a dictionary with as many values as epochs that the\n",
    "# model was trained on. \n",
    "df_loss_acc = pd.DataFrame(history.history)\n",
    "df_loss= df_loss_acc[['loss','val_loss']]\n",
    "df_loss.rename(columns={'loss':'train','val_loss':'validation'},inplace=True)\n",
    "df_acc= df_loss_acc[['accuracy','val_accuracy']]\n",
    "df_acc.rename(columns={'accuracy':'train','val_accuracy':'validation'},inplace=True)\n",
    "df_loss.plot(title='Model loss',figsize=(12,8)).set(xlabel='Epoch',ylabel='Loss')\n",
    "df_acc.plot(title='Model Accuracy',figsize=(12,8)).set(xlabel='Epoch',ylabel='Accuracy')"
   ]
  },
  {
   "cell_type": "markdown",
   "metadata": {},
   "source": [
    "**Congratulations**! You've finished the assignment and built two models: One that recognizes  smiles, and another that recognizes SIGN language with almost 80% accuracy on the test set. In addition to that, you now also understand the applications of two Keras APIs: Sequential and Functional. Nicely done! \n",
    "\n",
    "By now, you know a bit about how the Functional API works and may have glimpsed the possibilities. In your next assignment, you'll really get a feel for its power when you get the opportunity to build a very deep ConvNet, using ResNets! "
   ]
  },
  {
   "cell_type": "markdown",
   "metadata": {},
   "source": [
    "<a name='6'></a>\n",
    "## 6 - Bibliography\n",
    "\n",
    "You're always encouraged to read the official documentation. To that end, you can find the docs for the Sequential and Functional APIs here: \n",
    "\n",
    "https://www.tensorflow.org/guide/keras/sequential_model\n",
    "\n",
    "https://www.tensorflow.org/guide/keras/functional"
   ]
  }
 ],
 "metadata": {
  "coursera": {
   "course_slug": "convolutional-neural-networks",
   "graded_item_id": "bwbJV",
   "launcher_item_id": "0TkXB"
  },
  "kernelspec": {
   "display_name": "Python 3",
   "language": "python",
   "name": "python3"
  },
  "language_info": {
   "codemirror_mode": {
    "name": "ipython",
    "version": 3
   },
   "file_extension": ".py",
   "mimetype": "text/x-python",
   "name": "python",
   "nbconvert_exporter": "python",
   "pygments_lexer": "ipython3",
   "version": "3.7.6"
  }
 },
 "nbformat": 4,
 "nbformat_minor": 2
}
